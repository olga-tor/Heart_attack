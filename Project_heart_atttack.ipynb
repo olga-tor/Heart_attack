{
 "cells": [
  {
   "cell_type": "markdown",
   "id": "ad18d637-dc14-455c-89a2-77d52dfb31e6",
   "metadata": {},
   "source": [
    "# Мастерская. Проект по предсказанию сердечного приступа."
   ]
  },
  {
   "cell_type": "markdown",
   "id": "644d3979-9c6c-4c5b-8e4a-592eba1b4731",
   "metadata": {},
   "source": [
    "В данном проекте нам предстоит нам предстоит разработать модель машинного обучния, а также подготовить библиотеку и интерфейс к ней для предсказания на тестовой выборке. \n",
    "\n",
    "В начале проекта нам доступен обучающий датасет и тестовый датасет, не содержащий правильных ответов. Метрика на тестовом датасете будет измерена в ходе проверки работы. Также нам доступен скрипт, с помощью которого будет измеряться финальная метрика вашей модели.\n",
    "\n",
    "В данной работе мы сделаем следующие шаги:\n",
    "- изучим предоставленные данные,\n",
    "- проведем предобработку,\n",
    "- исследования,\n",
    "- объединение данных и выделение необходимых признаков,\n",
    "- изучим взаимосвязь параметров между собой,\n",
    "- построим модели,\n",
    "- подобрем гипермараметры,\n",
    "- выберем наиболее подходящую из них,\n",
    "- подберем наиболее подходящую для проекта метрику,\n",
    "- сделаем предсказание для тестовой выборки для отправки на проверку,\n",
    "- кроме того, мы подготовим библиотеку и интерфейс к ней."
   ]
  },
  {
   "cell_type": "code",
   "execution_count": null,
   "id": "a987e191-83c2-467a-892e-1b0cf10eb164",
   "metadata": {},
   "outputs": [],
   "source": [
    "#импорты и константы\n",
    "\n",
    "import numpy as np\n",
    "import pandas as pd\n",
    "!pip install --upgrade matplotlib==3.5.0 -q\n",
    "import matplotlib.pyplot as plt\n",
    "import seaborn as sns\n",
    "\n",
    "import scipy.stats as st\n",
    "!pip install --upgrade scikit-learn -q\n",
    "from sklearn.model_selection import train_test_split\n",
    "\n",
    "# загружаем класс pipeline\n",
    "from sklearn.pipeline import Pipeline\n",
    "\n",
    "# загружаем классы для подготовки данных\n",
    "from sklearn.preprocessing import (\n",
    "    OneHotEncoder,\n",
    "    OrdinalEncoder, \n",
    "    StandardScaler, \n",
    "    MinMaxScaler,\n",
    "    LabelEncoder\n",
    ")\n",
    "from sklearn.compose import ColumnTransformer\n",
    "\n",
    "# загружаем класс для работы с пропусками\n",
    "from sklearn.impute import SimpleImputer\n",
    "\n",
    "# загружаем функцию для работы с метриками\n",
    "from sklearn.metrics import roc_auc_score, make_scorer\n",
    "\n",
    "# импортируем класс RandomizedSearchCV\n",
    "from sklearn.model_selection import RandomizedSearchCV, GridSearchCV\n",
    "\n",
    "# загружаем нужные модели\n",
    "from sklearn.neighbors import KNeighborsClassifier\n",
    "from sklearn.tree import DecisionTreeRegressor, DecisionTreeClassifier\n",
    "from sklearn.svm import SVC\n",
    "\n",
    "!pip install phik -q\n",
    "from phik import phik_matrix\n",
    "from phik.report import plot_correlation_matrix\n",
    "\n",
    "\n",
    "!pip install shap -q\n",
    "import shap\n",
    "\n",
    "RANDOM_STATE = 42\n",
    "TEST_SIZE = 0.25\n",
    "\n",
    "import warnings\n",
    "#warnings.filterwarnings('ignore', category=FutureWarning)"
   ]
  },
  {
   "cell_type": "code",
   "execution_count": null,
   "id": "bac19c97-d806-4ec3-bf6b-ec7f05255ab0",
   "metadata": {},
   "outputs": [],
   "source": []
  }
 ],
 "metadata": {
  "kernelspec": {
   "display_name": "Python 3 (ipykernel)",
   "language": "python",
   "name": "python3"
  },
  "language_info": {
   "codemirror_mode": {
    "name": "ipython",
    "version": 3
   },
   "file_extension": ".py",
   "mimetype": "text/x-python",
   "name": "python",
   "nbconvert_exporter": "python",
   "pygments_lexer": "ipython3",
   "version": "3.12.7"
  }
 },
 "nbformat": 4,
 "nbformat_minor": 5
}
