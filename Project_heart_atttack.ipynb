{
 "cells": [
  {
   "cell_type": "markdown",
   "id": "ad18d637-dc14-455c-89a2-77d52dfb31e6",
   "metadata": {},
   "source": [
    "# Мастерская. Проект по предсказанию сердечного приступа."
   ]
  },
  {
   "cell_type": "markdown",
   "id": "644d3979-9c6c-4c5b-8e4a-592eba1b4731",
   "metadata": {},
   "source": [
    "В данном проекте нам предстоит нам предстоит разработать модель машинного обучния, а также подготовить библиотеку и интерфейс к ней для предсказания на тестовой выборке. \n",
    "\n",
    "В начале проекта нам доступен обучающий датасет и тестовый датасет, не содержащий правильных ответов. Метрика на тестовом датасете будет измерена в ходе проверки работы. Также нам доступен скрипт, с помощью которого будет измеряться финальная метрика вашей модели.\n"
   ]
  },
  {
   "cell_type": "code",
   "execution_count": null,
   "id": "a987e191-83c2-467a-892e-1b0cf10eb164",
   "metadata": {},
   "outputs": [],
   "source": []
  },
  {
   "cell_type": "code",
   "execution_count": null,
   "id": "bac19c97-d806-4ec3-bf6b-ec7f05255ab0",
   "metadata": {},
   "outputs": [],
   "source": []
  }
 ],
 "metadata": {
  "kernelspec": {
   "display_name": "Python 3 (ipykernel)",
   "language": "python",
   "name": "python3"
  },
  "language_info": {
   "codemirror_mode": {
    "name": "ipython",
    "version": 3
   },
   "file_extension": ".py",
   "mimetype": "text/x-python",
   "name": "python",
   "nbconvert_exporter": "python",
   "pygments_lexer": "ipython3",
   "version": "3.12.7"
  }
 },
 "nbformat": 4,
 "nbformat_minor": 5
}
